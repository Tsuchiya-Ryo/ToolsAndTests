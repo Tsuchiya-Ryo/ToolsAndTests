{
  "nbformat": 4,
  "nbformat_minor": 0,
  "metadata": {
    "colab": {
      "name": "rdk-geom-20201211.ipynb",
      "provenance": [],
      "authorship_tag": "ABX9TyMjdlUGdpnSiXa/FrW21h7J",
      "include_colab_link": true
    },
    "kernelspec": {
      "name": "python3",
      "display_name": "Python 3"
    }
  },
  "cells": [
    {
      "cell_type": "markdown",
      "metadata": {
        "id": "view-in-github",
        "colab_type": "text"
      },
      "source": [
        "<a href=\"https://colab.research.google.com/github/Tsuchiya-Ryo/ToolsAndTests/blob/master/rdk_geom_20201211.ipynb\" target=\"_parent\"><img src=\"https://colab.research.google.com/assets/colab-badge.svg\" alt=\"Open In Colab\"/></a>"
      ]
    },
    {
      "cell_type": "markdown",
      "metadata": {
        "id": "-oc1xgb2t3pf"
      },
      "source": [
        "## Build Pytorch geometric and RDKit environment in Colab (2020-12-11)"
      ]
    },
    {
      "cell_type": "code",
      "metadata": {
        "colab": {
          "base_uri": "https://localhost:8080/"
        },
        "id": "MVsJqhaDqTnI",
        "outputId": "6c799c4d-6296-491b-8fc5-1c9f79c7fccf"
      },
      "source": [
        "import torch\r\n",
        "print(torch.__version__)"
      ],
      "execution_count": 1,
      "outputs": [
        {
          "output_type": "stream",
          "text": [
            "1.7.0+cu101\n"
          ],
          "name": "stdout"
        }
      ]
    },
    {
      "cell_type": "markdown",
      "metadata": {
        "id": "key1suRmxQF4"
      },
      "source": [
        "#### Comment out the command `&> /dev/null` to show installation output.\r\n",
        "**Pytorch geometric installation**"
      ]
    },
    {
      "cell_type": "code",
      "metadata": {
        "id": "LtBn_shJqXef"
      },
      "source": [
        "!pip install torch-scatter==latest+cu101 -f https://pytorch-geometric.com/whl/torch-1.7.0.html &> /dev/null\r\n",
        "!pip install torch-sparse==latest+cu101 -f https://pytorch-geometric.com/whl/torch-1.7.0.html &> /dev/null\r\n",
        "!pip install torch-cluster==latest+cu101 -f https://pytorch-geometric.com/whl/torch-1.7.0.html &> /dev/null\r\n",
        "!pip install torch-spline-conv==latest+cu101 -f https://pytorch-geometric.com/whl/torch-1.7.0.html &> /dev/null\r\n",
        "!pip install torch-geometric &> /dev/null"
      ],
      "execution_count": 2,
      "outputs": []
    },
    {
      "cell_type": "markdown",
      "metadata": {
        "id": "EsWiTVeFyDLY"
      },
      "source": [
        "**RDKit installation**"
      ]
    },
    {
      "cell_type": "code",
      "metadata": {
        "id": "V1QmjLHgsr7b"
      },
      "source": [
        "!wget -c https://repo.continuum.io/miniconda/Miniconda3-py37_4.8.3-Linux-x86_64.sh &> /dev/null\r\n",
        "!chmod +x Miniconda3-py37_4.8.3-Linux-x86_64.sh\r\n",
        "!bash ./Miniconda3-py37_4.8.3-Linux-x86_64.sh -b -f -p /usr/local &> /dev/null\r\n",
        "!conda install -q -y -c conda-forge rdkit &> /dev/null\r\n",
        "\r\n",
        "import sys\r\n",
        "sys.path.append('/usr/local/lib/python3.7/site-packages/')"
      ],
      "execution_count": 3,
      "outputs": []
    },
    {
      "cell_type": "code",
      "metadata": {
        "colab": {
          "base_uri": "https://localhost:8080/"
        },
        "id": "mibUsVv-uH3h",
        "outputId": "67dc1a9f-e2fa-4fee-99a4-fc3048860dfc"
      },
      "source": [
        "from rdkit import rdBase\r\n",
        "print(rdBase.rdkitVersion)"
      ],
      "execution_count": 4,
      "outputs": [
        {
          "output_type": "stream",
          "text": [
            "2020.09.1\n"
          ],
          "name": "stdout"
        }
      ]
    }
  ]
}